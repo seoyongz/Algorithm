{
  "nbformat": 4,
  "nbformat_minor": 0,
  "metadata": {
    "colab": {
      "provenance": []
    },
    "kernelspec": {
      "name": "python3",
      "display_name": "Python 3"
    },
    "language_info": {
      "name": "python"
    }
  },
  "cells": [
    {
      "cell_type": "markdown",
      "source": [
        "## Import Library"
      ],
      "metadata": {
        "id": "ENCOJ30uJL_M"
      }
    },
    {
      "cell_type": "code",
      "execution_count": null,
      "metadata": {
        "id": "zlaxFy2lHAYA"
      },
      "outputs": [],
      "source": [
        "import numpy as np\n",
        "import pandas as pd\n",
        "\n",
        "import requests\n",
        "import urllib.request as ur\n",
        "from bs4 import BeautifulSoup as bs"
      ]
    },
    {
      "cell_type": "markdown",
      "source": [
        "## Open URL\n",
        "**ur.urlopen()** : open the URL and return a httpresponse object"
      ],
      "metadata": {
        "id": "K1W5BJE2JO44"
      }
    },
    {
      "cell_type": "code",
      "source": [
        "html_quote = ur.urlopen('http://quotes.toscrape.com/')"
      ],
      "metadata": {
        "id": "M9kSAMs5IBOk"
      },
      "execution_count": null,
      "outputs": []
    },
    {
      "cell_type": "markdown",
      "source": [
        "## BeautifulSoup\n",
        "**bs(html_doc, 'html.parser')** : BeautifulSoup transforms a complex HTML document into a nested data structure"
      ],
      "metadata": {
        "id": "kYL-91f-JTkR"
      }
    },
    {
      "cell_type": "code",
      "source": [],
      "metadata": {
        "id": "PD14l_aw05uN"
      },
      "execution_count": null,
      "outputs": []
    },
    {
      "cell_type": "code",
      "source": [
        "# bs(html_doc, 'html.parser') : BeautifulSoup transforms a complex HTML document into a nested data structure\n",
        "soup_quote = bs(html_quote.read(), 'html.parser')"
      ],
      "metadata": {
        "id": "GkiEU0wgJXqB"
      },
      "execution_count": null,
      "outputs": []
    },
    {
      "cell_type": "markdown",
      "source": [
        "## Navigating the parse tree"
      ],
      "metadata": {
        "id": "TlmJHlHcKHlx"
      }
    },
    {
      "cell_type": "code",
      "source": [
        "soup_quote.find('div', {'class':'quote'}).find('span').text"
      ],
      "metadata": {
        "colab": {
          "base_uri": "https://localhost:8080/",
          "height": 35
        },
        "id": "1uH9lvguylef",
        "outputId": "1feea716-980d-4a25-ffe4-c37064c410c7"
      },
      "execution_count": null,
      "outputs": [
        {
          "output_type": "execute_result",
          "data": {
            "text/plain": [
              "'“The world as we have created it is a process of our thinking. It cannot be changed without changing our thinking.”'"
            ],
            "application/vnd.google.colaboratory.intrinsic+json": {
              "type": "string"
            }
          },
          "metadata": {},
          "execution_count": 8
        }
      ]
    },
    {
      "cell_type": "code",
      "source": [
        "soup_quote.find('div', {'class':'quote'}).find('small', {'itemprop':'author'}).text"
      ],
      "metadata": {
        "id": "eT2LEPAtKG49",
        "colab": {
          "base_uri": "https://localhost:8080/",
          "height": 35
        },
        "outputId": "e0b02e3b-551d-4c46-f7fe-f570d6fb02c8"
      },
      "execution_count": null,
      "outputs": [
        {
          "output_type": "execute_result",
          "data": {
            "text/plain": [
              "'Albert Einstein'"
            ],
            "application/vnd.google.colaboratory.intrinsic+json": {
              "type": "string"
            }
          },
          "metadata": {},
          "execution_count": 7
        }
      ]
    },
    {
      "cell_type": "code",
      "source": [
        "# for 문을 이용한\n",
        "quote_text=[]\n",
        "for i in soup_quote.find_all('div', {'class':'quote'}) :\n",
        "  quote_text.append(i.find('span').text)\n",
        "\n",
        "print(quote_text)"
      ],
      "metadata": {
        "colab": {
          "base_uri": "https://localhost:8080/"
        },
        "id": "DM7euM7oypw2",
        "outputId": "bdbbdec9-aba0-4b48-a475-b7f819890f8c"
      },
      "execution_count": null,
      "outputs": [
        {
          "output_type": "stream",
          "name": "stdout",
          "text": [
            "['“The world as we have created it is a process of our thinking. It cannot be changed without changing our thinking.”', '“It is our choices, Harry, that show what we truly are, far more than our abilities.”', '“There are only two ways to live your life. One is as though nothing is a miracle. The other is as though everything is a miracle.”', '“The person, be it gentleman or lady, who has not pleasure in a good novel, must be intolerably stupid.”', \"“Imperfection is beauty, madness is genius and it's better to be absolutely ridiculous than absolutely boring.”\", '“Try not to become a man of success. Rather become a man of value.”', '“It is better to be hated for what you are than to be loved for what you are not.”', \"“I have not failed. I've just found 10,000 ways that won't work.”\", \"“A woman is like a tea bag; you never know how strong it is until it's in hot water.”\", '“A day without sunshine is like, you know, night.”']\n"
          ]
        }
      ]
    },
    {
      "cell_type": "code",
      "source": [
        "for i in soup_quote.find_all('div', {'class':'quote'}) :\n",
        "  author=i.find('small', {'itemprop':'author'}).text\n",
        "  print(author)"
      ],
      "metadata": {
        "colab": {
          "base_uri": "https://localhost:8080/"
        },
        "id": "Ffg2H4P-4Ogw",
        "outputId": "e3a7a549-c08a-4152-e4f2-8e516f0bd9af"
      },
      "execution_count": null,
      "outputs": [
        {
          "output_type": "stream",
          "name": "stdout",
          "text": [
            "Albert Einstein\n",
            "J.K. Rowling\n",
            "Albert Einstein\n",
            "Jane Austen\n",
            "Marilyn Monroe\n",
            "Albert Einstein\n",
            "André Gide\n",
            "Thomas A. Edison\n",
            "Eleanor Roosevelt\n",
            "Steve Martin\n"
          ]
        }
      ]
    },
    {
      "cell_type": "code",
      "source": [],
      "metadata": {
        "id": "OboCcUhV6Lae"
      },
      "execution_count": null,
      "outputs": []
    }
  ]
}