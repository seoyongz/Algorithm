{
  "nbformat": 4,
  "nbformat_minor": 0,
  "metadata": {
    "colab": {
      "provenance": [],
      "authorship_tag": "ABX9TyM+I1lfLAz3yJfZM7pA8c5t",
      "include_colab_link": true
    },
    "kernelspec": {
      "name": "python3",
      "display_name": "Python 3"
    },
    "language_info": {
      "name": "python"
    }
  },
  "cells": [
    {
      "cell_type": "markdown",
      "metadata": {
        "id": "view-in-github",
        "colab_type": "text"
      },
      "source": [
        "<a href=\"https://colab.research.google.com/github/seoyongz/Algorithm-Study/blob/main/%08DataStructure/Queue.ipynb\" target=\"_parent\"><img src=\"https://colab.research.google.com/assets/colab-badge.svg\" alt=\"Open In Colab\"/></a>"
      ]
    },
    {
      "cell_type": "markdown",
      "source": [
        "## 자료구조 예제 : 큐"
      ],
      "metadata": {
        "id": "yA_fxnBT2Tz_"
      }
    },
    {
      "cell_type": "code",
      "source": [
        "from collections import deque"
      ],
      "metadata": {
        "id": "swgNwUUe2TYE"
      },
      "execution_count": null,
      "outputs": []
    },
    {
      "cell_type": "code",
      "source": [
        "queue = deque()\n",
        "\n",
        "queue.append(1)   # 1 삽입\n",
        "queue.append(2)   # 2 삽입\n",
        "queue.append(3)\n",
        "queue.append(4)\n",
        "queue.popleft()   # 제일 앞 요소 삭제\n",
        "# queue.rotate(1)   # 오른쪽으로 이동\n",
        "\n",
        "a = queue.popleft()   # 제거되는 요소가 a에 저장됨\n",
        "\n",
        "print(queue)\n",
        "print(a)"
      ],
      "metadata": {
        "id": "w6Y-Buma2Yqt"
      },
      "execution_count": null,
      "outputs": []
    },
    {
      "cell_type": "markdown",
      "source": [
        "## 재귀함수 예제"
      ],
      "metadata": {
        "id": "-fQLHYcWyRS5"
      }
    },
    {
      "cell_type": "code",
      "execution_count": null,
      "metadata": {
        "id": "7jh4sW3FxC46"
      },
      "outputs": [],
      "source": [
        "def recursive_function(i):\n",
        "\tif i == 100:\n",
        "\t\treturn print(i, '번재 재귀 함수에서', i+1, '번째 재귀 함수 호출')\n",
        "\trecursive_function(i+1)"
      ]
    },
    {
      "cell_type": "code",
      "source": [
        "recursive_function(1)"
      ],
      "metadata": {
        "colab": {
          "base_uri": "https://localhost:8080/"
        },
        "id": "kjR0Ms24xEV0",
        "outputId": "e7361ca4-fde0-4989-ad57-8133e3684792"
      },
      "execution_count": null,
      "outputs": [
        {
          "output_type": "stream",
          "name": "stdout",
          "text": [
            "100 번재 재귀 함수에서 101 번째 재귀 함수 호출\n"
          ]
        }
      ]
    },
    {
      "cell_type": "markdown",
      "source": [
        "## DFS/BFS 예제"
      ],
      "metadata": {
        "id": "jNCpHFm2-Y8b"
      }
    },
    {
      "cell_type": "code",
      "source": [
        "from collections import deque"
      ],
      "metadata": {
        "id": "Y0-oDUJ5HEvD"
      },
      "execution_count": null,
      "outputs": []
    },
    {
      "cell_type": "code",
      "source": [
        "def dfs(graph, vertex, visited):\n",
        "\n",
        "  # 현재 vertex 방문 처리\n",
        "  visited[vertex] = 1\n",
        "\n",
        "  # 현재 vertex와 연결된 vertex 중에서 아직 방문되지 않은 vertex를 재귀적으로 방문\n",
        "  for v in graph[vertex]:\n",
        "    if not visited[v] :\n",
        "      dfs(graph, v, visited)\n",
        "\n"
      ],
      "metadata": {
        "id": "CSjun-T2yUP1"
      },
      "execution_count": null,
      "outputs": []
    },
    {
      "cell_type": "code",
      "source": [
        "def bfs(graph, start, visited):\n",
        "\n",
        "  # 현재 vertex 방문 처리\n",
        "  queue = deque([start])\n",
        "  visited[start] = 1\n",
        "\n",
        "  while queue:\n",
        "\n",
        "    # 큐에서 하나의 원소를 뽑아 출력\n",
        "    vertex = queue.popleft()\n",
        "\n",
        "    # 해당 원소와 연결된, 아직 방문하지 않은 원소들을 큐에 삽입\n",
        "    for v in graph[vertex]:\n",
        "      if not visited[v]:    # 노드 v가 visited 되지 않았다면\n",
        "        queue.append(v)     # 큐에 삽입\n",
        "        visited[v] = 1\n"
      ],
      "metadata": {
        "id": "JAmwM3Bl_n0S"
      },
      "execution_count": null,
      "outputs": []
    },
    {
      "cell_type": "code",
      "source": [
        "graph = [[], [2,3,8], [1,7], [1,4,5], [3,5], [3,4], [7], [2,6,8], [1,7]]\n",
        "visited = [False]*len(graph)"
      ],
      "metadata": {
        "id": "JgTPesS-_zN5"
      },
      "execution_count": null,
      "outputs": []
    },
    {
      "cell_type": "code",
      "source": [
        "dfs(graph, 1, visited)"
      ],
      "metadata": {
        "id": "2R8ffYQc1o8L"
      },
      "execution_count": null,
      "outputs": []
    },
    {
      "cell_type": "code",
      "source": [
        "bfs(graph, 1, visited)"
      ],
      "metadata": {
        "colab": {
          "base_uri": "https://localhost:8080/"
        },
        "id": "4o6O6goC11vH",
        "outputId": "b2b090c5-b76b-48c2-9717-147cc1436871"
      },
      "execution_count": null,
      "outputs": [
        {
          "output_type": "execute_result",
          "data": {
            "text/plain": [
              "1"
            ]
          },
          "metadata": {},
          "execution_count": 6
        }
      ]
    },
    {
      "cell_type": "markdown",
      "source": [
        "## Problem 1 : 음료수 얼려먹기"
      ],
      "metadata": {
        "id": "xqrPkxxo4jqu"
      }
    },
    {
      "cell_type": "code",
      "source": [
        "def problem1(graph):\n",
        "\n",
        "  N = len(graph)\n",
        "  M = len(graph[0])\n",
        "\n",
        "  visited = [[0 for w in range(M)] for h in range(N)]\n",
        "\n",
        "  zero_vertices = []\n",
        "  for i in range(N):\n",
        "    for j in range(M):\n",
        "      if graph[i][j] == 0 :\n",
        "        zero_vertices.append((i, j))\n",
        "\n",
        "  count = 0\n",
        "  while zero_vertices:\n",
        "    count += 1\n",
        "\n",
        "    start = list(zero_vertices[0])\n",
        "    del zero_vertices[0]\n",
        "    visited[start[0]][start[1]] = 1\n",
        "\n",
        "\n",
        "    neighbor = deque([start])\n",
        "    while neighbor :\n",
        "\n",
        "      vertex = neighbor.popleft()\n",
        "\n",
        "      delta = [(1, 0), (-1, 0), (0, 1), (0, -1)]\n",
        "      if vertex[0] == 0:\n",
        "        delta.remove((-1, 0))\n",
        "      elif vertex[0] == N-1:\n",
        "        delta.remove((1, 0))\n",
        "\n",
        "      if vertex[1] == 0:\n",
        "        delta.remove((0, -1))\n",
        "      elif vertex[1] == M-1:\n",
        "        delta.remove((0, 1))\n",
        "\n",
        "\n",
        "      for d in delta:\n",
        "        neighbor_tmp = [vertex[0] + d[0], vertex[1] + d[1]]\n",
        "\n",
        "        if graph[neighbor_tmp[0]][neighbor_tmp[1]] == 0 and visited[neighbor_tmp[0]][neighbor_tmp[1]] == 0:\n",
        "          # 방문처리하고\n",
        "          visited[neighbor_tmp[0]][neighbor_tmp[1]] = 1\n",
        "          # 큐에 삽입\n",
        "          neighbor.append(neighbor_tmp)\n",
        "          # 다음 얼음구멍 시작 후보에서 제거\n",
        "          zero_vertices.remove(tuple(neighbor_tmp))\n",
        "\n",
        "\n",
        "  return count"
      ],
      "metadata": {
        "id": "b5b96E1mrIc-"
      },
      "execution_count": null,
      "outputs": []
    },
    {
      "cell_type": "code",
      "source": [
        "data = [[0,0,1,1,0], [0,0,0,1,1], [1,1,1,1,1], [0,0,0,0,0]]\n",
        "problem1(data)"
      ],
      "metadata": {
        "colab": {
          "base_uri": "https://localhost:8080/"
        },
        "id": "SpfJnwHuRanX",
        "outputId": "1a1d9aa7-98c5-41d5-c6ac-d48dbc948a15"
      },
      "execution_count": null,
      "outputs": [
        {
          "output_type": "execute_result",
          "data": {
            "text/plain": [
              "3"
            ]
          },
          "metadata": {},
          "execution_count": 23
        }
      ]
    },
    {
      "cell_type": "code",
      "source": [
        "data = [[0,0,0,0,0,1,1,1,1,0,0,0,0,0],[1,1,1,1,1,1,0,1,1,1,1,1,1,0],[1,1,0,1,1,1,0,1,1,0,1,1,1,0],\n",
        " [1,1,0,1,1,1,0,1,1,0,0,0,0,0],[1,1,0,1,1,1,1,1,1,1,1,1,1,1],[1,1,0,1,1,1,1,1,1,1,1,1,0,0],\n",
        "  [1,1,0,0,0,0,0,0,0,1,1,1,1,1],[0,1,1,1,1,1,1,1,1,1,1,1,1,1],[0,0,0,0,0,0,0,0,0,1,1,1,1,1],\n",
        "   [0,1,1,1,1,1,1,1,1,1,1,0,0,0],[0,0,0,1,1,1,1,1,1,1,1,0,0,0],[0,0,0,0,0,0,0,1,1,1,1,0,0,0],\n",
        "    [1,1,1,1,1,1,1,1,1,1,0,0,1,1],[1,1,1,0,0,0,1,1,1,1,1,1,1,1],[1,1,1,0,0,0,1,1,1,1,1,1,1,1]]\n",
        "\n",
        "problem1(data)"
      ],
      "metadata": {
        "colab": {
          "base_uri": "https://localhost:8080/"
        },
        "id": "exqb7cgm5CnQ",
        "outputId": "684a360f-6b06-4011-9d0b-e36e63bb7c29"
      },
      "execution_count": null,
      "outputs": [
        {
          "output_type": "execute_result",
          "data": {
            "text/plain": [
              "8"
            ]
          },
          "metadata": {},
          "execution_count": 22
        }
      ]
    },
    {
      "cell_type": "code",
      "source": [
        "b = [[0,0,0,0,0], [0,0,0,0,0], [0,0,0,0,0], [0,0,0,0,0]]"
      ],
      "metadata": {
        "id": "b0Qkh31ih4AG"
      },
      "execution_count": null,
      "outputs": []
    },
    {
      "cell_type": "markdown",
      "source": [
        "## Problem2 : 미로탈출"
      ],
      "metadata": {
        "id": "OujBdoLbnodF"
      }
    },
    {
      "cell_type": "markdown",
      "source": [
        "- (N, M)까지 갈 수 있는 모든 경로 탐색\n",
        "- 이동 칸수 저장\n"
      ],
      "metadata": {
        "id": "Rr2ETjy-oZ4b"
      }
    },
    {
      "cell_type": "code",
      "source": [
        "def problem2(data):\n",
        "\n",
        "  N = len(data)\n",
        "  M = len(data[0])\n",
        "\n",
        "  visited = [[0 for i in range(M)] for j in range(N)]\n",
        "\n",
        "  start = [0,0]\n",
        "  visited[start[0]][start[1]] = 1\n",
        "\n",
        "  queue = deque([start])\n",
        "  while queue:\n",
        "\n",
        "    vertex = queue.popleft()\n",
        "\n",
        "    delta = [(1, 0), (-1, 0), (0, 1), (0, -1)]\n",
        "    if vertex[0] == 0:\n",
        "      delta.remove((-1, 0))\n",
        "    elif vertex[0] == N-1:\n",
        "      delta.remove((1, 0))\n",
        "\n",
        "    if vertex[1] == 0:\n",
        "      delta.remove((0, -1))\n",
        "    elif vertex[1] == M-1:\n",
        "      delta.remove((0, 1))\n",
        "\n",
        "    for d in delta :\n",
        "      tmp = [vertex[0] + d[0], vertex[1] + d[1]]\n",
        "\n",
        "      if data[tmp[0]][tmp[1]] == 1 and visited[tmp[0]][tmp[1]] == 0:\n",
        "        visited[tmp[0]][tmp[1]] = visited[vertex[0]][vertex[1]] + 1\n",
        "        queue.append(tmp)\n",
        "\n",
        "\n",
        "  return visited[N-1][M-1]\n"
      ],
      "metadata": {
        "id": "F5AcaxMV64vM"
      },
      "execution_count": null,
      "outputs": []
    },
    {
      "cell_type": "code",
      "source": [
        "data = [[1,0,1,0,1,0],[1,1,1,1,1,1],[0,0,0,0,0,1],[1,1,1,1,1,1],[1,1,1,1,1,1]]\n",
        "problem2(data)"
      ],
      "metadata": {
        "colab": {
          "base_uri": "https://localhost:8080/"
        },
        "id": "HVkqXAwyrRQi",
        "outputId": "daef8554-dfff-4f02-ebcb-37c4aee30c21"
      },
      "execution_count": null,
      "outputs": [
        {
          "output_type": "execute_result",
          "data": {
            "text/plain": [
              "10"
            ]
          },
          "metadata": {},
          "execution_count": 54
        }
      ]
    },
    {
      "cell_type": "code",
      "source": [
        "from collections import deque\n",
        "# data input\n",
        "N, M = map(int, input().split())\n",
        "data = []\n",
        "\n",
        "for i in range(N):\n",
        "  tmp = [int(x) for x in list(map(str, input()))]\n",
        "  data.append(tmp)\n",
        "\n",
        "\n",
        "# code 시작\n",
        "visited = [[0 for i in range(M)] for j in range(N)]\n",
        "\n",
        "start = [0, 0]\n",
        "visited[start[0]][start[1]] = 1\n",
        "\n",
        "queue = deque([start])\n",
        "while queue:\n",
        "\n",
        "  vertex = queue.popleft()\n",
        "\n",
        "  delta = [(1, 0), (-1, 0), (0, 1), (0, -1)]\n",
        "  if vertex[0] == 0:\n",
        "    delta.remove((-1, 0))\n",
        "  elif vertex[0] == N-1:\n",
        "    delta.remove((1, 0))\n",
        "\n",
        "  if vertex[1] == 0:\n",
        "    delta.remove((0, -1))\n",
        "  elif vertex[1] == M-1:\n",
        "    delta.remove((0, 1))\n",
        "\n",
        "  for d in delta :\n",
        "    tmp = [vertex[0] + d[0], vertex[1] + d[1]]\n",
        "\n",
        "    if data[tmp[0]][tmp[1]] == 1 and visited[tmp[0]][tmp[1]] == 0:\n",
        "      visited[tmp[0]][tmp[1]] = visited[vertex[0]][vertex[1]] + 1\n",
        "      queue.append(tmp)\n",
        "\n",
        "print(visited[N-1][M-1])"
      ],
      "metadata": {
        "colab": {
          "base_uri": "https://localhost:8080/"
        },
        "id": "v0sgu8LN4pfr",
        "outputId": "99caf414-0730-47e5-c760-6a4cc77c9326"
      },
      "execution_count": null,
      "outputs": [
        {
          "output_type": "stream",
          "name": "stdout",
          "text": [
            "4 6\n",
            "101111\n",
            "101010\n",
            "101011\n",
            "111011\n",
            "15\n"
          ]
        }
      ]
    }
  ]
}