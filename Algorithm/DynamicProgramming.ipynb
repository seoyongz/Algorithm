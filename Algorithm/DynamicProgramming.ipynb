{
  "nbformat": 4,
  "nbformat_minor": 0,
  "metadata": {
    "colab": {
      "provenance": []
    },
    "kernelspec": {
      "name": "python3",
      "display_name": "Python 3"
    },
    "language_info": {
      "name": "python"
    }
  },
  "cells": [
    {
      "cell_type": "markdown",
      "source": [
        "## Example1 : 피보나치 수열"
      ],
      "metadata": {
        "id": "LSiHKtS7ulYa"
      }
    },
    {
      "cell_type": "code",
      "source": [
        "n = 100\n",
        "pibo = [0]*n\n",
        "\n",
        "pibo[0] = 1\n",
        "pibo[1] = 1\n",
        "for i in range(2, n):\n",
        "  pibo[i] = pibo[i-1] + pibo[i-2]\n",
        "\n",
        "print(pibo[n-1])"
      ],
      "metadata": {
        "id": "Ye9Cxa-VulHy"
      },
      "execution_count": null,
      "outputs": []
    },
    {
      "cell_type": "markdown",
      "source": [
        "## Problem1 : 1로 만들기"
      ],
      "metadata": {
        "id": "Pj2q8EB4p5Rk"
      }
    },
    {
      "cell_type": "code",
      "source": [
        "import time\n",
        "X = 26"
      ],
      "metadata": {
        "id": "N5rws3M7FyHS"
      },
      "execution_count": null,
      "outputs": []
    },
    {
      "cell_type": "code",
      "execution_count": null,
      "metadata": {
        "id": "vvW_cQ-htb7k",
        "colab": {
          "base_uri": "https://localhost:8080/"
        },
        "outputId": "b5622ead-a9d4-4d4e-99f9-66a4497aa0d1"
      },
      "outputs": [
        {
          "output_type": "stream",
          "name": "stdout",
          "text": [
            "3\n",
            "time : 0.001659393310546875\n"
          ]
        }
      ],
      "source": [
        "\n",
        "start_time = time.time()\n",
        "count = 0\n",
        "values = [X]\n",
        "next_values = []\n",
        "dividors = [5, 3, 2]\n",
        "\n",
        "while 1 not in values :\n",
        "  for x in values:\n",
        "    if x > 1 :\n",
        "      next_values.append(x-1)\n",
        "    for d in dividors :\n",
        "      if x % d == 0:\n",
        "        next_values.append(x/d)\n",
        "  values = next_values\n",
        "  next_values = []\n",
        "  count += 1\n",
        "\n",
        "print(count)\n",
        "\n",
        "end_time = time.time() # 측정 종료\n",
        "print(\"time :\", end_time - start_time) # 수행시간 출력"
      ]
    },
    {
      "cell_type": "code",
      "source": [
        "x=26"
      ],
      "metadata": {
        "id": "3IVl3j0TGBFZ"
      },
      "execution_count": null,
      "outputs": []
    },
    {
      "cell_type": "code",
      "source": [
        "start_time = time.time() # 측정 시작\n",
        "\n",
        "d = [0]* 30001\n",
        "for i in range(2, x+1):\n",
        "  d[i] = d[i-1] + 1\n",
        "  if i % 2 == 0:\n",
        "    d[i] = min(d[i], d[i//2] + 1)\n",
        "  if i % 3 == 0:\n",
        "    d[i] = min(d[i], d[i//3] + 1)\n",
        "  if i % 5 == 0:\n",
        "    d[i] = min(d[i], d[i//5] + 1)\n",
        "\n",
        "end_time = time.time() # 측정 종료\n",
        "print(\"time :\", end_time - start_time) # 수행시간 출력"
      ],
      "metadata": {
        "colab": {
          "base_uri": "https://localhost:8080/"
        },
        "id": "xQgLlohSF5SG",
        "outputId": "5a53edf6-bb19-4ccc-9c50-0e07fdcb4d31"
      },
      "execution_count": null,
      "outputs": [
        {
          "output_type": "stream",
          "name": "stdout",
          "text": [
            "time : 0.0003421306610107422\n"
          ]
        }
      ]
    },
    {
      "cell_type": "markdown",
      "source": [
        "## Problem2 : 개미전사"
      ],
      "metadata": {
        "id": "8Hzlm3gvp5v7"
      }
    },
    {
      "cell_type": "code",
      "source": [
        "N = int(input())\n",
        "data = list(map(int, input().split()))\n",
        "array1 = [0] * N    # cumulative sum of data\n",
        "\n",
        "array1[0] = data[0]\n",
        "array1[1] = data[1]\n",
        "array1[2] = array1[0] + data[2]\n",
        "\n",
        "for i in range(3, N):\n",
        "  array1[i] = max(array1[i-3] + data[i], array1[i-2] + data[i])\n",
        "\n",
        "print(max(array1))"
      ],
      "metadata": {
        "id": "wJAQFInjp6CU",
        "colab": {
          "base_uri": "https://localhost:8080/"
        },
        "outputId": "11866902-2824-46c2-80e4-ba0a899936a8"
      },
      "execution_count": null,
      "outputs": [
        {
          "output_type": "stream",
          "name": "stdout",
          "text": [
            "4\n",
            "1 3 1 5\n",
            "8\n"
          ]
        }
      ]
    },
    {
      "cell_type": "markdown",
      "source": [
        "## Problem3 : 바닥 공사"
      ],
      "metadata": {
        "id": "dYrSJMtSp6Sd"
      }
    },
    {
      "cell_type": "code",
      "source": [
        "N = int(input())\n",
        "\n",
        "d = [0] * (N+1)\n",
        "d[1] = 1\n",
        "d[2] = 3\n",
        "\n",
        "for i in range(3, N+1):\n",
        "  for j in range(1, i):\n",
        "    d[i] += d[j] * d[i-j]\n",
        "  d[i] -= (i-1)//2\n",
        "\n",
        "print(d[N])"
      ],
      "metadata": {
        "id": "_q6FY0V6p6qK",
        "colab": {
          "base_uri": "https://localhost:8080/"
        },
        "outputId": "107cda45-9a3a-4740-c914-0ee493e7022a"
      },
      "execution_count": null,
      "outputs": [
        {
          "output_type": "stream",
          "name": "stdout",
          "text": [
            "3\n",
            "5\n",
            "5\n"
          ]
        }
      ]
    },
    {
      "cell_type": "markdown",
      "source": [
        "## Problem4 : 효율적인 화폐구성"
      ],
      "metadata": {
        "id": "IA_w3zdep69L"
      }
    },
    {
      "cell_type": "code",
      "source": [
        "# 데이터 입력받기\n",
        "N, M = map(int, input().split())\n",
        "data = []\n",
        "for i in range(N):\n",
        "  data.append(int(input()))\n",
        "\n",
        "array_count = [-1] * (M+1)\n",
        "# 초기 주어진 화폐로 만들수 있는 돈들 -> 1로\n",
        "for i in range(N):\n",
        "  if data[i] <= M:\n",
        "    array_count[data[i]] = 1\n",
        "\n",
        "for i in range(min(data)+1, M+1):\n",
        "  index_tmp = []\n",
        "\n",
        "  for j in range(N):\n",
        "    if i - data[j] > 0 and array_count[i - data[j]] != -1:\n",
        "      index_tmp.append(i - data[j])\n",
        "\n",
        "  if index_tmp :\n",
        "    array_count[i] = min([array_count[x] for x in index_tmp]) + 1\n",
        "\n",
        "print(array_count[M])"
      ],
      "metadata": {
        "id": "Z3qpXiFap7ST",
        "colab": {
          "base_uri": "https://localhost:8080/",
          "height": 418
        },
        "outputId": "3357c3c8-419d-4a1b-88b2-069fb4f4e0e5"
      },
      "execution_count": null,
      "outputs": [
        {
          "output_type": "error",
          "ename": "KeyboardInterrupt",
          "evalue": "Interrupted by user",
          "traceback": [
            "\u001b[0;31m---------------------------------------------------------------------------\u001b[0m",
            "\u001b[0;31mKeyboardInterrupt\u001b[0m                         Traceback (most recent call last)",
            "\u001b[0;32m<ipython-input-1-20316c4181ee>\u001b[0m in \u001b[0;36m<cell line: 2>\u001b[0;34m()\u001b[0m\n\u001b[1;32m      1\u001b[0m \u001b[0;31m# 데이터 입력받기\u001b[0m\u001b[0;34m\u001b[0m\u001b[0;34m\u001b[0m\u001b[0m\n\u001b[0;32m----> 2\u001b[0;31m \u001b[0mN\u001b[0m\u001b[0;34m,\u001b[0m \u001b[0mM\u001b[0m \u001b[0;34m=\u001b[0m \u001b[0mmap\u001b[0m\u001b[0;34m(\u001b[0m\u001b[0mint\u001b[0m\u001b[0;34m,\u001b[0m \u001b[0minput\u001b[0m\u001b[0;34m(\u001b[0m\u001b[0;34m)\u001b[0m\u001b[0;34m.\u001b[0m\u001b[0msplit\u001b[0m\u001b[0;34m(\u001b[0m\u001b[0;34m)\u001b[0m\u001b[0;34m)\u001b[0m\u001b[0;34m\u001b[0m\u001b[0;34m\u001b[0m\u001b[0m\n\u001b[0m\u001b[1;32m      3\u001b[0m \u001b[0mdata\u001b[0m \u001b[0;34m=\u001b[0m \u001b[0;34m[\u001b[0m\u001b[0;34m]\u001b[0m\u001b[0;34m\u001b[0m\u001b[0;34m\u001b[0m\u001b[0m\n\u001b[1;32m      4\u001b[0m \u001b[0;32mfor\u001b[0m \u001b[0mi\u001b[0m \u001b[0;32min\u001b[0m \u001b[0mrange\u001b[0m\u001b[0;34m(\u001b[0m\u001b[0mN\u001b[0m\u001b[0;34m)\u001b[0m\u001b[0;34m:\u001b[0m\u001b[0;34m\u001b[0m\u001b[0;34m\u001b[0m\u001b[0m\n\u001b[1;32m      5\u001b[0m   \u001b[0mdata\u001b[0m\u001b[0;34m.\u001b[0m\u001b[0mappend\u001b[0m\u001b[0;34m(\u001b[0m\u001b[0mint\u001b[0m\u001b[0;34m(\u001b[0m\u001b[0minput\u001b[0m\u001b[0;34m(\u001b[0m\u001b[0;34m)\u001b[0m\u001b[0;34m)\u001b[0m\u001b[0;34m)\u001b[0m\u001b[0;34m\u001b[0m\u001b[0;34m\u001b[0m\u001b[0m\n",
            "\u001b[0;32m/usr/local/lib/python3.10/dist-packages/ipykernel/kernelbase.py\u001b[0m in \u001b[0;36mraw_input\u001b[0;34m(self, prompt)\u001b[0m\n\u001b[1;32m    849\u001b[0m                 \u001b[0;34m\"raw_input was called, but this frontend does not support input requests.\"\u001b[0m\u001b[0;34m\u001b[0m\u001b[0;34m\u001b[0m\u001b[0m\n\u001b[1;32m    850\u001b[0m             )\n\u001b[0;32m--> 851\u001b[0;31m         return self._input_request(str(prompt),\n\u001b[0m\u001b[1;32m    852\u001b[0m             \u001b[0mself\u001b[0m\u001b[0;34m.\u001b[0m\u001b[0m_parent_ident\u001b[0m\u001b[0;34m,\u001b[0m\u001b[0;34m\u001b[0m\u001b[0;34m\u001b[0m\u001b[0m\n\u001b[1;32m    853\u001b[0m             \u001b[0mself\u001b[0m\u001b[0;34m.\u001b[0m\u001b[0m_parent_header\u001b[0m\u001b[0;34m,\u001b[0m\u001b[0;34m\u001b[0m\u001b[0;34m\u001b[0m\u001b[0m\n",
            "\u001b[0;32m/usr/local/lib/python3.10/dist-packages/ipykernel/kernelbase.py\u001b[0m in \u001b[0;36m_input_request\u001b[0;34m(self, prompt, ident, parent, password)\u001b[0m\n\u001b[1;32m    893\u001b[0m             \u001b[0;32mexcept\u001b[0m \u001b[0mKeyboardInterrupt\u001b[0m\u001b[0;34m:\u001b[0m\u001b[0;34m\u001b[0m\u001b[0;34m\u001b[0m\u001b[0m\n\u001b[1;32m    894\u001b[0m                 \u001b[0;31m# re-raise KeyboardInterrupt, to truncate traceback\u001b[0m\u001b[0;34m\u001b[0m\u001b[0;34m\u001b[0m\u001b[0m\n\u001b[0;32m--> 895\u001b[0;31m                 \u001b[0;32mraise\u001b[0m \u001b[0mKeyboardInterrupt\u001b[0m\u001b[0;34m(\u001b[0m\u001b[0;34m\"Interrupted by user\"\u001b[0m\u001b[0;34m)\u001b[0m \u001b[0;32mfrom\u001b[0m \u001b[0;32mNone\u001b[0m\u001b[0;34m\u001b[0m\u001b[0;34m\u001b[0m\u001b[0m\n\u001b[0m\u001b[1;32m    896\u001b[0m             \u001b[0;32mexcept\u001b[0m \u001b[0mException\u001b[0m \u001b[0;32mas\u001b[0m \u001b[0me\u001b[0m\u001b[0;34m:\u001b[0m\u001b[0;34m\u001b[0m\u001b[0;34m\u001b[0m\u001b[0m\n\u001b[1;32m    897\u001b[0m                 \u001b[0mself\u001b[0m\u001b[0;34m.\u001b[0m\u001b[0mlog\u001b[0m\u001b[0;34m.\u001b[0m\u001b[0mwarning\u001b[0m\u001b[0;34m(\u001b[0m\u001b[0;34m\"Invalid Message:\"\u001b[0m\u001b[0;34m,\u001b[0m \u001b[0mexc_info\u001b[0m\u001b[0;34m=\u001b[0m\u001b[0;32mTrue\u001b[0m\u001b[0;34m)\u001b[0m\u001b[0;34m\u001b[0m\u001b[0;34m\u001b[0m\u001b[0m\n",
            "\u001b[0;31mKeyboardInterrupt\u001b[0m: Interrupted by user"
          ]
        }
      ]
    },
    {
      "cell_type": "code",
      "source": [
        "[0] * 3"
      ],
      "metadata": {
        "colab": {
          "base_uri": "https://localhost:8080/"
        },
        "id": "U5qCDQ9Q754J",
        "outputId": "3e7a11ed-4846-4314-864e-f4b58dfd4acf"
      },
      "execution_count": null,
      "outputs": [
        {
          "output_type": "execute_result",
          "data": {
            "text/plain": [
              "[0, 0, 0]"
            ]
          },
          "metadata": {},
          "execution_count": 16
        }
      ]
    }
  ]
}